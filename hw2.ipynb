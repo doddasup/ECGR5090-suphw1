{
  "nbformat": 4,
  "nbformat_minor": 5,
  "metadata": {
    "kernelspec": {
      "display_name": "Python 3",
      "language": "python",
      "name": "python3"
    },
    "language_info": {
      "codemirror_mode": {
        "name": "ipython",
        "version": 3
      },
      "file_extension": ".py",
      "mimetype": "text/x-python",
      "name": "python",
      "nbconvert_exporter": "python",
      "pygments_lexer": "ipython3",
      "version": "3.7.0"
    },
    "colab": {
      "name": "hw2.ipynb",
      "provenance": []
    },
    "accelerator": "GPU"
  },
  "cells": [
    {
      "cell_type": "code",
      "metadata": {
        "colab": {
          "base_uri": "https://localhost:8080/"
        },
        "id": "ZyLLLgBs4_Bu",
        "outputId": "fcbf7bbe-c727-4048-ff11-d8474b27be00"
      },
      "source": [
        "import tensorflow as tf\n",
        "\n",
        "# Helper libraries\n",
        "import numpy as np\n",
        "import matplotlib.pyplot as plt\n",
        "\n",
        "from tensorflow.keras import Input, layers\n",
        "from keras_preprocessing import image\n",
        "from google.colab import drive\n",
        "drive.mount('/content/drive')\n",
        "\n",
        "import PIL\n",
        "import PIL.Image\n",
        "\n",
        "my_image_dir = \"/content/drive/MyDrive/mltest/airplane-flight.jpg\"\n",
        "\n",
        "print(tf.__version__)"
      ],
      "id": "ZyLLLgBs4_Bu",
      "execution_count": 1,
      "outputs": [
        {
          "output_type": "stream",
          "text": [
            "Mounted at /content/drive\n",
            "2.4.1\n"
          ],
          "name": "stdout"
        }
      ]
    },
    {
      "cell_type": "code",
      "metadata": {
        "id": "RMPLLFkQezMS"
      },
      "source": [
        ""
      ],
      "id": "RMPLLFkQezMS",
      "execution_count": null,
      "outputs": []
    },
    {
      "cell_type": "code",
      "metadata": {
        "colab": {
          "base_uri": "https://localhost:8080/"
        },
        "id": "MWhmKYL74_Bz",
        "outputId": "795626e1-48af-4b1e-ed4f-52f2a32f1e1d"
      },
      "source": [
        "cifar10 = tf.keras.datasets.cifar10\n",
        "(train_images,train_labels),(test_images,test_labels) = cifar10.load_data()\n"
      ],
      "id": "MWhmKYL74_Bz",
      "execution_count": null,
      "outputs": [
        {
          "output_type": "stream",
          "text": [
            "Downloading data from https://www.cs.toronto.edu/~kriz/cifar-10-python.tar.gz\n",
            "170500096/170498071 [==============================] - 3s 0us/step\n"
          ],
          "name": "stdout"
        }
      ]
    },
    {
      "cell_type": "code",
      "metadata": {
        "colab": {
          "base_uri": "https://localhost:8080/"
        },
        "id": "_RC0HgG04_B0",
        "outputId": "444445c1-bdd2-49a1-b0d7-85085c9a5c9b"
      },
      "source": [
        "mnist = tf.keras.datasets.mnist\n",
        "(train_images,train_labels),(test_images,test_labels) = mnist.load_data()"
      ],
      "id": "_RC0HgG04_B0",
      "execution_count": null,
      "outputs": [
        {
          "output_type": "stream",
          "text": [
            "Downloading data from https://storage.googleapis.com/tensorflow/tf-keras-datasets/mnist.npz\n",
            "11493376/11490434 [==============================] - 0s 0us/step\n"
          ],
          "name": "stdout"
        }
      ]
    },
    {
      "cell_type": "code",
      "metadata": {
        "colab": {
          "base_uri": "https://localhost:8080/"
        },
        "id": "poFF-ER_4_B0",
        "outputId": "a4b3f9ec-9229-42e7-ccdb-bc58e02b1da3"
      },
      "source": [
        "dataset = \"cifar\"\n",
        "if dataset ==\"fashion_mnist\":\n",
        " fashion_mnist = tf.keras.datasets.fashion_mnist\n",
        " (train_images , train_labels),(test_images , test_labels)= fashion_mnist.load_data()\n",
        " class_names = ['T-shirt/top' , 'Trouser', 'Pullover','Dress','Coat' ,\n",
        "                'Sandal' ,'Shirt','Sneaker','Shirt','Sneaker' ,'Bag','Ankle boot']\n",
        "elif dataset ==\"cifar\":\n",
        " (train_images , train_labels),(test_images , test_labels)= tf.keras.datasets.cifar10.load_data()\n",
        "class_names = ['aeroplane', 'automobile','bird','cat','deer','dog','frog','horse','ship','truck']\n",
        "train_labels = train_labels.squeeze()\n",
        "test_labels = test_labels.squeeze()\n",
        "input_shape = train_images.shape[1:]\n",
        "train_images = train_images/ 255.0\n",
        "test_images = test_images/255.0\n",
        "print(\"training Images range from {:2.5f} to {:2.5f}\".format(np.min(train_images), np.max(train_images)))\n",
        "print(\"test     Images range from {:2.5f} to {:2.5f}\".format(np.min(test_images), np.max(test_images)))\n",
        "\n",
        "    "
      ],
      "id": "poFF-ER_4_B0",
      "execution_count": null,
      "outputs": [
        {
          "output_type": "stream",
          "text": [
            "training Images range from 0.00000 to 1.00000\n",
            "test     Images range from 0.00000 to 1.00000\n"
          ],
          "name": "stdout"
        }
      ]
    },
    {
      "cell_type": "code",
      "metadata": {
        "colab": {
          "base_uri": "https://localhost:8080/"
        },
        "id": "OtssZZCi4_B0",
        "outputId": "7e79d9d9-4c47-4924-80b8-972ed6e0e99b"
      },
      "source": [
        "print(train_images.shape)\n",
        "print(len(train_labels))\n",
        "print(test_images.shape)\n",
        "print(len(test_labels))\n",
        "train_labels\n",
        "\n"
      ],
      "id": "OtssZZCi4_B0",
      "execution_count": null,
      "outputs": [
        {
          "output_type": "stream",
          "text": [
            "(50000, 32, 32, 3)\n",
            "50000\n",
            "(10000, 32, 32, 3)\n",
            "10000\n"
          ],
          "name": "stdout"
        },
        {
          "output_type": "execute_result",
          "data": {
            "text/plain": [
              "array([6, 9, 9, ..., 9, 1, 1], dtype=uint8)"
            ]
          },
          "metadata": {
            "tags": []
          },
          "execution_count": 8
        }
      ]
    },
    {
      "cell_type": "code",
      "metadata": {
        "colab": {
          "base_uri": "https://localhost:8080/",
          "height": 318
        },
        "id": "Lvq35VncCpDP",
        "outputId": "7963ca79-002c-44c7-e125-50b429705241"
      },
      "source": [
        " my_image = image.load_img(my_image_dir , target_size=(32, 32))\r\n",
        "nw_image = np.array([image.img_to_array(my_image, dtype = np.uint8)])\r\n",
        "new_image = model.predict(nw_image)\r\n",
        "plt.subplot(2,1,1)\r\n",
        "plt.imshow(nw_image [0,:,:], cmap='Greys')\r\n",
        "plt.subplot(2,1,2)\r\n",
        "plt.bar(np.arange(10), new_image[0])\r\n",
        "new_image"
      ],
      "id": "Lvq35VncCpDP",
      "execution_count": null,
      "outputs": [
        {
          "output_type": "execute_result",
          "data": {
            "text/plain": [
              "array([[  9.611517 , -12.968379 , -45.39272  , -33.24446  , -17.00573  ,\n",
              "         70.91546  ,   2.5873861, -23.874725 ,  -8.262569 ,  32.82133  ]],\n",
              "      dtype=float32)"
            ]
          },
          "metadata": {
            "tags": []
          },
          "execution_count": 26
        },
        {
          "output_type": "display_data",
          "data": {
            "image/png": "[encoded data removed]",
            "text/plain": [
              "<Figure size 432x288 with 2 Axes>"
            ]
          },
          "metadata": {
            "tags": [],
            "needs_background": "light"
          }
        }
      ]
    },
    {
      "cell_type": "code",
      "metadata": {
        "colab": {
          "base_uri": "https://localhost:8080/",
          "height": 298
        },
        "id": "dUUJ_1wj4_B0",
        "outputId": "ab2d4c5a-94bb-4d3b-e6e2-400e97d3c66c"
      },
      "source": [
        "idx= 45270\n",
        "plt.figure()\n",
        "plt.imshow(train_images[idx], cmap='Greys')\n",
        "plt.colorbar()\n",
        "plt.grid(False)\n",
        "plt.title(\"Label ={:}\".format(class_names[train_labels[idx]]))\n",
        "input_shape"
      ],
      "id": "dUUJ_1wj4_B0",
      "execution_count": null,
      "outputs": [
        {
          "output_type": "execute_result",
          "data": {
            "text/plain": [
              "(32, 32, 3)"
            ]
          },
          "metadata": {
            "tags": []
          },
          "execution_count": 9
        },
        {
          "output_type": "display_data",
          "data": {
            "image/png": "[encoded data removed]",
            "text/plain": [
              "<Figure size 432x288 with 2 Axes>"
            ]
          },
          "metadata": {
            "tags": [],
            "needs_background": "light"
          }
        }
      ]
    },
    {
      "cell_type": "code",
      "metadata": {
        "colab": {
          "base_uri": "https://localhost:8080/",
          "height": 1000
        },
        "id": "r4p8kJF64_B1",
        "outputId": "6f0b1911-7c9c-44d4-82f2-b3ce85667823"
      },
      "source": [
        "plt.figure(figsize=(10,10))\n",
        "for i in range(25):\n",
        "    plt.subplot(5,5,i+1)\n",
        "    plt.xticks([])\n",
        "    plt.yticks([])\n",
        "    plt.grid(False)\n",
        "    plt.imshow(train_images[i], cmap=plt.cm.binary)\n",
        "    plt.xlabel(class_names[train_labels[i]])\n",
        "    plt.show()"
      ],
      "id": "r4p8kJF64_B1",
      "execution_count": null,
      "outputs": [
        {
          "output_type": "display_data",
          "data": {
            "image/png": "[encoded data removed]",
            "text/plain": [
              "<Figure size 720x720 with 1 Axes>"
            ]
          },
          "metadata": {
            "tags": []
          }
        },
        {
          "output_type": "display_data",
          "data": {
            "image/png": "[encoded data removed]",
            "text/plain": [
              "<Figure size 432x288 with 1 Axes>"
            ]
          },
          "metadata": {
            "tags": []
          }
        },
        {
          "output_type": "display_data",
          "data": {
            "image/png": "[encoded data removed]",
            "text/plain": [
              "<Figure size 432x288 with 1 Axes>"
            ]
          },
          "metadata": {
            "tags": []
          }
        },
        {
          "output_type": "display_data",
          "data": {
            "image/png": "[encoded data removed]",
            "text/plain": [
              "<Figure size 432x288 with 1 Axes>"
            ]
          },
          "metadata": {
            "tags": []
          }
        },
        {
          "output_type": "display_data",
          "data": {
            "image/png": "[encoded data removed]",
            "text/plain": [
              "<Figure size 432x288 with 1 Axes>"
            ]
          },
          "metadata": {
            "tags": []
          }
        },
        {
          "output_type": "display_data",
          "data": {
            "image/png": "[encoded data removed]",
            "text/plain": [
              "<Figure size 432x288 with 1 Axes>"
            ]
          },
          "metadata": {
            "tags": []
          }
        },
        {
          "output_type": "display_data",
          "data": {
            "image/png": "[encoded data removed]",
            "text/plain": [
              "<Figure size 432x288 with 1 Axes>"
            ]
          },
          "metadata": {
            "tags": []
          }
        },
        {
          "output_type": "display_data",
          "data": {
            "image/png": "[encoded data removed]",
            "text/plain": [
              "<Figure size 432x288 with 1 Axes>"
            ]
          },
          "metadata": {
            "tags": []
          }
        },
        {
          "output_type": "display_data",
          "data": {
            "image/png": "[encoded data removed]",
            "text/plain": [
              "<Figure size 432x288 with 1 Axes>"
            ]
          },
          "metadata": {
            "tags": []
          }
        },
        {
          "output_type": "display_data",
          "data": {
            "image/png": "[encoded data removed]",
            "text/plain": [
              "<Figure size 432x288 with 1 Axes>"
            ]
          },
          "metadata": {
            "tags": []
          }
        },
        {
          "output_type": "display_data",
          "data": {
            "image/png": "[encoded data removed]",
            "text/plain": [
              "<Figure size 432x288 with 1 Axes>"
            ]
          },
          "metadata": {
            "tags": []
          }
        },
        {
          "output_type": "display_data",
          "data": {
            "image/png": "[encoded data removed]",
            "text/plain": [
              "<Figure size 432x288 with 1 Axes>"
            ]
          },
          "metadata": {
            "tags": []
          }
        },
        {
          "output_type": "display_data",
          "data": {
            "image/png": "[encoded data removed]",
            "text/plain": [
              "<Figure size 432x288 with 1 Axes>"
            ]
          },
          "metadata": {
            "tags": []
          }
        },
        {
          "output_type": "display_data",
          "data": {
            "image/png": "[encoded data removed]",
            "text/plain": [
              "<Figure size 432x288 with 1 Axes>"
            ]
          },
          "metadata": {
            "tags": []
          }
        },
        {
          "output_type": "display_data",
          "data": {
            "image/png": "[encoded data removed]",
            "text/plain": [
              "<Figure size 432x288 with 1 Axes>"
            ]
          },
          "metadata": {
            "tags": []
          }
        },
        {
          "output_type": "display_data",
          "data": {
            "image/png": "[encoded data removed]",
            "text/plain": [
              "<Figure size 432x288 with 1 Axes>"
            ]
          },
          "metadata": {
            "tags": []
          }
        },
        {
          "output_type": "display_data",
          "data": {
            "image/png": "[encoded data removed]",
            "text/plain": [
              "<Figure size 432x288 with 1 Axes>"
            ]
          },
          "metadata": {
            "tags": []
          }
        },
        {
          "output_type": "display_data",
          "data": {
            "image/png": "[encoded data removed]",
            "text/plain": [
              "<Figure size 432x288 with 1 Axes>"
            ]
          },
          "metadata": {
            "tags": []
          }
        },
        {
          "output_type": "display_data",
          "data": {
            "image/png": "[encoded data removed]",
            "text/plain": [
              "<Figure size 432x288 with 1 Axes>"
            ]
          },
          "metadata": {
            "tags": []
          }
        },
        {
          "output_type": "display_data",
          "data": {
            "image/png": "[encoded data removed]",
            "text/plain": [
              "<Figure size 432x288 with 1 Axes>"
            ]
          },
          "metadata": {
            "tags": []
          }
        },
        {
          "output_type": "display_data",
          "data": {
            "image/png": "[encoded data removed]",
            "text/plain": [
              "<Figure size 432x288 with 1 Axes>"
            ]
          },
          "metadata": {
            "tags": []
          }
        },
        {
          "output_type": "display_data",
          "data": {
            "image/png": "[encoded data removed]",
            "text/plain": [
              "<Figure size 432x288 with 1 Axes>"
            ]
          },
          "metadata": {
            "tags": []
          }
        },
        {
          "output_type": "display_data",
          "data": {
            "image/png": "[encoded data removed]",
            "text/plain": [
              "<Figure size 432x288 with 1 Axes>"
            ]
          },
          "metadata": {
            "tags": []
          }
        },
        {
          "output_type": "display_data",
          "data": {
            "image/png": "[encoded data removed]",
            "text/plain": [
              "<Figure size 432x288 with 1 Axes>"
            ]
          },
          "metadata": {
            "tags": []
          }
        },
        {
          "output_type": "display_data",
          "data": {
            "image/png": "[encoded data removed]",
            "text/plain": [
              "<Figure size 432x288 with 1 Axes>"
            ]
          },
          "metadata": {
            "tags": []
          }
        }
      ]
    },
    {
      "cell_type": "code",
      "metadata": {
        "colab": {
          "base_uri": "https://localhost:8080/"
        },
        "id": "injMtSlV4_B1",
        "outputId": "30bea29b-9984-41d4-f533-6960059ee725"
      },
      "source": [
        "model= tf.keras.Sequential([\n",
        "    Input(shape= input_shape),\n",
        "    layers.Conv2D(32,kernel_size=(3,3), activation=\"relu\", padding='same'),\n",
        "    layers.Conv2D(64,kernel_size=(3,3), activation=\"relu\", padding='same'),\n",
        "    layers.MaxPooling2D(pool_size=(2,2)),\n",
        "    layers.Flatten(),\n",
        "    layers.Dense(1024, activation=\"relu\"),\n",
        "    layers.Dense(10)\n",
        "    \n",
        "])\n",
        "model.compile(optimizer='adam',\n",
        "             loss = tf.keras.losses.SparseCategoricalCrossentropy(from_logits=True),\n",
        "             metrics=['accuracy'])\n",
        "model.summary()"
      ],
      "id": "injMtSlV4_B1",
      "execution_count": null,
      "outputs": [
        {
          "output_type": "stream",
          "text": [
            "Model: \"sequential\"\n",
            "_________________________________________________________________\n",
            "Layer (type)                 Output Shape              Param #   \n",
            "=================================================================\n",
            "conv2d (Conv2D)              (None, 32, 32, 32)        896       \n",
            "_________________________________________________________________\n",
            "conv2d_1 (Conv2D)            (None, 32, 32, 64)        18496     \n",
            "_________________________________________________________________\n",
            "max_pooling2d (MaxPooling2D) (None, 16, 16, 64)        0         \n",
            "_________________________________________________________________\n",
            "flatten (Flatten)            (None, 16384)             0         \n",
            "_________________________________________________________________\n",
            "dense (Dense)                (None, 1024)              16778240  \n",
            "_________________________________________________________________\n",
            "dense_1 (Dense)              (None, 10)                10250     \n",
            "=================================================================\n",
            "Total params: 16,807,882\n",
            "Trainable params: 16,807,882\n",
            "Non-trainable params: 0\n",
            "_________________________________________________________________\n"
          ],
          "name": "stdout"
        }
      ]
    },
    {
      "cell_type": "code",
      "metadata": {
        "colab": {
          "base_uri": "https://localhost:8080/"
        },
        "id": "Gipqlhnw4_B1",
        "outputId": "523ebe72-9495-4a72-f203-9679d0685631"
      },
      "source": [
        "train_hist = model.fit(train_images ,train_labels , epochs=50)\n",
        "model.save('saved_model/scratch')"
      ],
      "id": "Gipqlhnw4_B1",
      "execution_count": null,
      "outputs": [
        {
          "output_type": "stream",
          "text": [
            "Epoch 1/50\n",
            "1563/1563 [==============================] - 10s 6ms/step - loss: 0.0211 - accuracy: 0.9927\n",
            "Epoch 2/50\n",
            "1563/1563 [==============================] - 10s 6ms/step - loss: 0.0210 - accuracy: 0.9934\n",
            "Epoch 3/50\n",
            "1563/1563 [==============================] - 10s 6ms/step - loss: 0.0245 - accuracy: 0.9921\n",
            "Epoch 4/50\n",
            "1563/1563 [==============================] - 10s 6ms/step - loss: 0.0210 - accuracy: 0.9935\n",
            "Epoch 5/50\n",
            "1563/1563 [==============================] - 9s 6ms/step - loss: 0.0177 - accuracy: 0.9946\n",
            "Epoch 6/50\n",
            "1563/1563 [==============================] - 10s 6ms/step - loss: 0.0240 - accuracy: 0.9925\n",
            "Epoch 7/50\n",
            "1563/1563 [==============================] - 9s 6ms/step - loss: 0.0187 - accuracy: 0.9943\n",
            "Epoch 8/50\n",
            "1563/1563 [==============================] - 10s 6ms/step - loss: 0.0231 - accuracy: 0.9933\n",
            "Epoch 9/50\n",
            "1563/1563 [==============================] - 10s 6ms/step - loss: 0.0250 - accuracy: 0.9927\n",
            "Epoch 10/50\n",
            "1563/1563 [==============================] - 9s 6ms/step - loss: 0.0219 - accuracy: 0.9932\n",
            "Epoch 11/50\n",
            "1563/1563 [==============================] - 9s 6ms/step - loss: 0.0161 - accuracy: 0.9951\n",
            "Epoch 12/50\n",
            "1563/1563 [==============================] - 10s 6ms/step - loss: 0.0235 - accuracy: 0.9932\n",
            "Epoch 13/50\n",
            "1563/1563 [==============================] - 10s 6ms/step - loss: 0.0194 - accuracy: 0.9943\n",
            "Epoch 14/50\n",
            "1563/1563 [==============================] - 9s 6ms/step - loss: 0.0151 - accuracy: 0.9952\n",
            "Epoch 15/50\n",
            "1563/1563 [==============================] - 10s 6ms/step - loss: 0.0228 - accuracy: 0.9926\n",
            "Epoch 16/50\n",
            "1563/1563 [==============================] - 10s 6ms/step - loss: 0.0246 - accuracy: 0.9936\n",
            "Epoch 17/50\n",
            "1563/1563 [==============================] - 9s 6ms/step - loss: 0.0153 - accuracy: 0.9951\n",
            "Epoch 18/50\n",
            "1563/1563 [==============================] - 10s 6ms/step - loss: 0.0207 - accuracy: 0.9938\n",
            "Epoch 19/50\n",
            "1563/1563 [==============================] - 10s 6ms/step - loss: 0.0176 - accuracy: 0.9944\n",
            "Epoch 20/50\n",
            "1563/1563 [==============================] - 10s 6ms/step - loss: 0.0193 - accuracy: 0.9942\n",
            "Epoch 21/50\n",
            "1563/1563 [==============================] - 10s 6ms/step - loss: 0.0153 - accuracy: 0.9957\n",
            "Epoch 22/50\n",
            "1563/1563 [==============================] - 9s 6ms/step - loss: 0.0193 - accuracy: 0.9942\n",
            "Epoch 23/50\n",
            "1563/1563 [==============================] - 10s 6ms/step - loss: 0.0202 - accuracy: 0.9942\n",
            "Epoch 24/50\n",
            "1563/1563 [==============================] - 10s 6ms/step - loss: 0.0208 - accuracy: 0.9939\n",
            "Epoch 25/50\n",
            "1563/1563 [==============================] - 9s 6ms/step - loss: 0.0150 - accuracy: 0.9956\n",
            "Epoch 26/50\n",
            "1563/1563 [==============================] - 10s 6ms/step - loss: 0.0197 - accuracy: 0.9939\n",
            "Epoch 27/50\n",
            "1563/1563 [==============================] - 10s 6ms/step - loss: 0.0168 - accuracy: 0.9952\n",
            "Epoch 28/50\n",
            "1563/1563 [==============================] - 9s 6ms/step - loss: 0.0174 - accuracy: 0.9952\n",
            "Epoch 29/50\n",
            "1563/1563 [==============================] - 10s 6ms/step - loss: 0.0163 - accuracy: 0.9955\n",
            "Epoch 30/50\n",
            "1563/1563 [==============================] - 10s 6ms/step - loss: 0.0198 - accuracy: 0.9944\n",
            "Epoch 31/50\n",
            "1563/1563 [==============================] - 10s 6ms/step - loss: 0.0177 - accuracy: 0.9948\n",
            "Epoch 32/50\n",
            "1563/1563 [==============================] - 10s 6ms/step - loss: 0.0197 - accuracy: 0.9947\n",
            "Epoch 33/50\n",
            "1563/1563 [==============================] - 10s 6ms/step - loss: 0.0169 - accuracy: 0.9947\n",
            "Epoch 34/50\n",
            "1563/1563 [==============================] - 10s 6ms/step - loss: 0.0165 - accuracy: 0.9958\n",
            "Epoch 35/50\n",
            "1563/1563 [==============================] - 10s 6ms/step - loss: 0.0170 - accuracy: 0.9949\n",
            "Epoch 36/50\n",
            "1563/1563 [==============================] - 10s 6ms/step - loss: 0.0162 - accuracy: 0.9950\n",
            "Epoch 37/50\n",
            "1563/1563 [==============================] - 10s 6ms/step - loss: 0.0137 - accuracy: 0.9959\n",
            "Epoch 38/50\n",
            "1563/1563 [==============================] - 9s 6ms/step - loss: 0.0155 - accuracy: 0.9956\n",
            "Epoch 39/50\n",
            "1563/1563 [==============================] - 10s 6ms/step - loss: 0.0166 - accuracy: 0.9951\n",
            "Epoch 40/50\n",
            "1563/1563 [==============================] - 10s 6ms/step - loss: 0.0177 - accuracy: 0.9952\n",
            "Epoch 41/50\n",
            "1563/1563 [==============================] - 10s 6ms/step - loss: 0.0172 - accuracy: 0.9953\n",
            "Epoch 42/50\n",
            "1563/1563 [==============================] - 10s 6ms/step - loss: 0.0151 - accuracy: 0.9957\n",
            "Epoch 43/50\n",
            "1563/1563 [==============================] - 10s 6ms/step - loss: 0.0155 - accuracy: 0.9956\n",
            "Epoch 44/50\n",
            "1563/1563 [==============================] - 10s 6ms/step - loss: 0.0141 - accuracy: 0.9958\n",
            "Epoch 45/50\n",
            "1563/1563 [==============================] - 10s 6ms/step - loss: 0.0147 - accuracy: 0.9957\n",
            "Epoch 46/50\n",
            "1563/1563 [==============================] - 10s 6ms/step - loss: 0.0154 - accuracy: 0.9954\n",
            "Epoch 47/50\n",
            "1563/1563 [==============================] - 10s 6ms/step - loss: 0.0154 - accuracy: 0.9961\n",
            "Epoch 48/50\n",
            "1563/1563 [==============================] - 10s 6ms/step - loss: 0.0144 - accuracy: 0.9959\n",
            "Epoch 49/50\n",
            "1563/1563 [==============================] - 10s 6ms/step - loss: 0.0161 - accuracy: 0.9951\n",
            "Epoch 50/50\n",
            "1563/1563 [==============================] - 10s 6ms/step - loss: 0.0131 - accuracy: 0.9962\n",
            "INFO:tensorflow:Assets written to: saved_model/scratch/assets\n"
          ],
          "name": "stdout"
        }
      ]
    },
    {
      "cell_type": "code",
      "metadata": {
        "colab": {
          "base_uri": "https://localhost:8080/"
        },
        "id": "v4L4jQ3ESEvb",
        "outputId": "cfc93c11-0cb1-420e-e9c6-77f6560735d4"
      },
      "source": [
        "test_loss, test_acc = model.evaluate(test_images,  test_labels, verbose=2)\r\n",
        "print('\\nTest accuracy:', test_acc)"
      ],
      "id": "v4L4jQ3ESEvb",
      "execution_count": null,
      "outputs": [
        {
          "output_type": "stream",
          "text": [
            "313/313 - 1s - loss: 3.8475 - accuracy: 0.6927\n",
            "\n",
            "Test accuracy: 0.6927000284194946\n"
          ],
          "name": "stdout"
        }
      ]
    },
    {
      "cell_type": "code",
      "metadata": {
        "colab": {
          "base_uri": "https://localhost:8080/"
        },
        "id": "UBg8dUv44_B2",
        "outputId": "1cfe7601-df39-452f-815b-bec2a5c84278"
      },
      "source": [
        "model2= tf.keras.Sequential([\n",
        "    Input(shape=input_shape),\n",
        "    tf.keras.layers.DepthwiseConv2D(kernel_size=(3, 3), strides=(2, 2), padding=\"same\", activation=\"relu\", input_shape=input_shape),\n",
        "    tf.keras.layers.Conv2D(filters=32, kernel_size=(1, 1), activation=\"relu\"),\n",
        "    tf.keras.layers.DepthwiseConv2D(kernel_size=(3, 3), strides=(2, 2), padding=\"same\", activation=\"relu\"),\n",
        "    tf.keras.layers.Conv2D(filters=64, kernel_size=(1, 1), activation=\"relu\"),\n",
        "    tf.keras.layers.MaxPool2D(pool_size=(2, 2), strides=(2, 2)),\n",
        "    tf.keras.layers.Flatten(),\n",
        "    tf.keras.layers.Dense(1024, activation=\"relu\"),\n",
        "    tf.keras.layers.Dense(10)\n",
        "])\n",
        "\n",
        "    \n",
        "\n",
        "model2.compile(optimizer='adam',\n",
        "             loss = tf.keras.losses.SparseCategoricalCrossentropy(from_logits=True),\n",
        "             metrics=['accuracy'])\n",
        "model2.summary()"
      ],
      "id": "UBg8dUv44_B2",
      "execution_count": null,
      "outputs": [
        {
          "output_type": "stream",
          "text": [
            "Model: \"sequential_3\"\n",
            "_________________________________________________________________\n",
            "Layer (type)                 Output Shape              Param #   \n",
            "=================================================================\n",
            "depthwise_conv2d_6 (Depthwis (None, 16, 16, 3)         30        \n",
            "_________________________________________________________________\n",
            "conv2d_5 (Conv2D)            (None, 16, 16, 32)        128       \n",
            "_________________________________________________________________\n",
            "depthwise_conv2d_7 (Depthwis (None, 8, 8, 32)          320       \n",
            "_________________________________________________________________\n",
            "conv2d_6 (Conv2D)            (None, 8, 8, 64)          2112      \n",
            "_________________________________________________________________\n",
            "max_pooling2d_3 (MaxPooling2 (None, 4, 4, 64)          0         \n",
            "_________________________________________________________________\n",
            "flatten_3 (Flatten)          (None, 1024)              0         \n",
            "_________________________________________________________________\n",
            "dense_6 (Dense)              (None, 1024)              1049600   \n",
            "_________________________________________________________________\n",
            "dense_7 (Dense)              (None, 10)                10250     \n",
            "=================================================================\n",
            "Total params: 1,062,440\n",
            "Trainable params: 1,062,440\n",
            "Non-trainable params: 0\n",
            "_________________________________________________________________\n"
          ],
          "name": "stdout"
        }
      ]
    },
    {
      "cell_type": "code",
      "metadata": {
        "colab": {
          "base_uri": "https://localhost:8080/"
        },
        "id": "Z0AVB75C4_B2",
        "outputId": "5853eb01-cbb9-4593-d51c-1198f1b2b0d0"
      },
      "source": [
        "train_hist = model2.fit(train_images ,train_labels , epochs=50)\r\n",
        "model2.save('saved_model2/scratch')"
      ],
      "id": "Z0AVB75C4_B2",
      "execution_count": null,
      "outputs": [
        {
          "output_type": "stream",
          "text": [
            "Epoch 1/50\n",
            "1563/1563 [==============================] - 5s 3ms/step - loss: 1.8926 - accuracy: 0.3055\n",
            "Epoch 2/50\n",
            "1563/1563 [==============================] - 5s 3ms/step - loss: 1.4175 - accuracy: 0.4960\n",
            "Epoch 3/50\n",
            "1563/1563 [==============================] - 5s 3ms/step - loss: 1.2574 - accuracy: 0.5543\n",
            "Epoch 4/50\n",
            "1563/1563 [==============================] - 5s 3ms/step - loss: 1.1575 - accuracy: 0.5905\n",
            "Epoch 5/50\n",
            "1563/1563 [==============================] - 5s 3ms/step - loss: 1.0604 - accuracy: 0.6244\n",
            "Epoch 6/50\n",
            "1563/1563 [==============================] - 5s 3ms/step - loss: 0.9709 - accuracy: 0.6575\n",
            "Epoch 7/50\n",
            "1563/1563 [==============================] - 5s 3ms/step - loss: 0.8839 - accuracy: 0.6917\n",
            "Epoch 8/50\n",
            "1563/1563 [==============================] - 5s 3ms/step - loss: 0.7949 - accuracy: 0.7211\n",
            "Epoch 9/50\n",
            "1563/1563 [==============================] - 5s 3ms/step - loss: 0.7149 - accuracy: 0.7482\n",
            "Epoch 10/50\n",
            "1563/1563 [==============================] - 5s 3ms/step - loss: 0.6249 - accuracy: 0.7810\n",
            "Epoch 11/50\n",
            "1563/1563 [==============================] - 5s 3ms/step - loss: 0.5375 - accuracy: 0.8119\n",
            "Epoch 12/50\n",
            "1563/1563 [==============================] - 5s 3ms/step - loss: 0.4607 - accuracy: 0.8403\n",
            "Epoch 13/50\n",
            "1563/1563 [==============================] - 5s 3ms/step - loss: 0.3721 - accuracy: 0.8721\n",
            "Epoch 14/50\n",
            "1563/1563 [==============================] - 5s 3ms/step - loss: 0.2988 - accuracy: 0.8974\n",
            "Epoch 15/50\n",
            "1563/1563 [==============================] - 5s 3ms/step - loss: 0.2402 - accuracy: 0.9190\n",
            "Epoch 16/50\n",
            "1563/1563 [==============================] - 5s 3ms/step - loss: 0.1828 - accuracy: 0.9404\n",
            "Epoch 17/50\n",
            "1563/1563 [==============================] - 5s 3ms/step - loss: 0.1483 - accuracy: 0.9505\n",
            "Epoch 18/50\n",
            "1563/1563 [==============================] - 5s 3ms/step - loss: 0.1274 - accuracy: 0.9561\n",
            "Epoch 19/50\n",
            "1563/1563 [==============================] - 5s 3ms/step - loss: 0.1036 - accuracy: 0.9662\n",
            "Epoch 20/50\n",
            "1563/1563 [==============================] - 5s 3ms/step - loss: 0.0942 - accuracy: 0.9681\n",
            "Epoch 21/50\n",
            "1563/1563 [==============================] - 5s 3ms/step - loss: 0.0864 - accuracy: 0.9708\n",
            "Epoch 22/50\n",
            "1563/1563 [==============================] - 5s 3ms/step - loss: 0.0820 - accuracy: 0.9720\n",
            "Epoch 23/50\n",
            "1563/1563 [==============================] - 5s 3ms/step - loss: 0.0756 - accuracy: 0.9744\n",
            "Epoch 24/50\n",
            "1563/1563 [==============================] - 5s 3ms/step - loss: 0.0640 - accuracy: 0.9780\n",
            "Epoch 25/50\n",
            "1563/1563 [==============================] - 5s 3ms/step - loss: 0.0591 - accuracy: 0.9798\n",
            "Epoch 26/50\n",
            "1563/1563 [==============================] - 5s 3ms/step - loss: 0.0692 - accuracy: 0.9752\n",
            "Epoch 27/50\n",
            "1563/1563 [==============================] - 5s 3ms/step - loss: 0.0647 - accuracy: 0.9772\n",
            "Epoch 28/50\n",
            "1563/1563 [==============================] - 5s 3ms/step - loss: 0.0618 - accuracy: 0.9791\n",
            "Epoch 29/50\n",
            "1563/1563 [==============================] - 5s 3ms/step - loss: 0.0524 - accuracy: 0.9828\n",
            "Epoch 30/50\n",
            "1563/1563 [==============================] - 5s 3ms/step - loss: 0.0534 - accuracy: 0.9819\n",
            "Epoch 31/50\n",
            "1563/1563 [==============================] - 5s 3ms/step - loss: 0.0598 - accuracy: 0.9799\n",
            "Epoch 32/50\n",
            "1563/1563 [==============================] - 5s 3ms/step - loss: 0.0577 - accuracy: 0.9800\n",
            "Epoch 33/50\n",
            "1563/1563 [==============================] - 5s 3ms/step - loss: 0.0517 - accuracy: 0.9831\n",
            "Epoch 34/50\n",
            "1563/1563 [==============================] - 5s 3ms/step - loss: 0.0475 - accuracy: 0.9841\n",
            "Epoch 35/50\n",
            "1563/1563 [==============================] - 5s 3ms/step - loss: 0.0524 - accuracy: 0.9823\n",
            "Epoch 36/50\n",
            "1563/1563 [==============================] - 5s 3ms/step - loss: 0.0498 - accuracy: 0.9831\n",
            "Epoch 37/50\n",
            "1563/1563 [==============================] - 5s 3ms/step - loss: 0.0445 - accuracy: 0.9843\n",
            "Epoch 38/50\n",
            "1563/1563 [==============================] - 5s 3ms/step - loss: 0.0375 - accuracy: 0.9868\n",
            "Epoch 39/50\n",
            "1563/1563 [==============================] - 5s 3ms/step - loss: 0.0540 - accuracy: 0.9817\n",
            "Epoch 40/50\n",
            "1563/1563 [==============================] - 5s 3ms/step - loss: 0.0511 - accuracy: 0.9819\n",
            "Epoch 41/50\n",
            "1563/1563 [==============================] - 5s 3ms/step - loss: 0.0458 - accuracy: 0.9839\n",
            "Epoch 42/50\n",
            "1563/1563 [==============================] - 5s 3ms/step - loss: 0.0422 - accuracy: 0.9855\n",
            "Epoch 43/50\n",
            "1563/1563 [==============================] - 5s 3ms/step - loss: 0.0390 - accuracy: 0.9871\n",
            "Epoch 44/50\n",
            "1563/1563 [==============================] - 5s 3ms/step - loss: 0.0418 - accuracy: 0.9864\n",
            "Epoch 45/50\n",
            "1563/1563 [==============================] - 5s 3ms/step - loss: 0.0344 - accuracy: 0.9880\n",
            "Epoch 46/50\n",
            "1563/1563 [==============================] - 5s 3ms/step - loss: 0.0442 - accuracy: 0.9858\n",
            "Epoch 47/50\n",
            "1563/1563 [==============================] - 5s 3ms/step - loss: 0.0338 - accuracy: 0.9890\n",
            "Epoch 48/50\n",
            "1563/1563 [==============================] - 5s 3ms/step - loss: 0.0465 - accuracy: 0.9840\n",
            "Epoch 49/50\n",
            "1563/1563 [==============================] - 5s 3ms/step - loss: 0.0302 - accuracy: 0.9904\n",
            "Epoch 50/50\n",
            "1563/1563 [==============================] - 5s 3ms/step - loss: 0.0327 - accuracy: 0.9891\n",
            "INFO:tensorflow:Assets written to: saved_model2/scratch/assets\n"
          ],
          "name": "stdout"
        }
      ]
    },
    {
      "cell_type": "code",
      "metadata": {
        "colab": {
          "base_uri": "https://localhost:8080/"
        },
        "id": "u4aXTJQqX3rZ",
        "outputId": "0f9549d1-274e-47c7-d550-181c3880a10c"
      },
      "source": [
        "test_loss, test_acc = model2.evaluate(test_images,  test_labels, verbose=2)\r\n",
        "print('\\nTest accuracy:', test_acc)"
      ],
      "id": "u4aXTJQqX3rZ",
      "execution_count": null,
      "outputs": [
        {
          "output_type": "stream",
          "text": [
            "313/313 - 1s - loss: 4.1928 - accuracy: 0.5958\n",
            "\n",
            "Test accuracy: 0.59579998254776\n"
          ],
          "name": "stdout"
        }
      ]
    },
    {
      "cell_type": "code",
      "metadata": {
        "id": "EHc6eqTlY1Vi"
      },
      "source": [
        ""
      ],
      "id": "EHc6eqTlY1Vi",
      "execution_count": null,
      "outputs": []
    }
  ]
}